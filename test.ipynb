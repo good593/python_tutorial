{
 "cells": [
  {
   "cell_type": "markdown",
   "id": "12e3d6e5",
   "metadata": {},
   "source": [
    "# 2개의 숫자를 더하는 함구"
   ]
  },
  {
   "cell_type": "code",
   "execution_count": null,
   "id": "c9587701",
   "metadata": {},
   "outputs": [],
   "source": [
    "def add1(a:int, b:int) -> int:\n",
    "  \"\"\"\n",
    "  기능: 2개의 숫자를 더하는 함수\n",
    "  \"\"\"\n",
    "  # 검증 로직\n",
    "  # isinstance(a,b) -> a와 b의 dtype이 같은지(True) 다른지(False)  \n",
    "  # not isinstance(a, int) -> a가 정수가 아닌 경우 \n",
    "  if not isinstance(a, int) or not isinstance(b, int):\n",
    "    pass \n",
    "\n",
    "  # 비지니스 로직 \n",
    "\n",
    "\n",
    "  # 리턴 로직 \n",
    "\n",
    "  return a + b"
   ]
  },
  {
   "cell_type": "code",
   "execution_count": null,
   "id": "b67c49e0",
   "metadata": {},
   "outputs": [
    {
     "data": {
      "text/plain": [
       "False"
      ]
     },
     "execution_count": 5,
     "metadata": {},
     "output_type": "execute_result"
    }
   ],
   "source": [
    "def add2(a:int, b:int) -> int:\n",
    "  \"\"\"\n",
    "  기능: 2개의 숫자를 더하는 함수\n",
    "  \"\"\"\n",
    "  # 검증 로직\n",
    "  # isinstance(a,b) -> a와 b의 dtype이 같은지(True) 다른지(False)  \n",
    "  # not isinstance(a, int) -> a가 정수가 아닌 경우 \n",
    "  if not isinstance(a, int):\n",
    "    pass \n",
    "  elif not isinstance(b, int):\n",
    "    pass\n",
    "\n",
    "  # 비지니스 로직 \n",
    "\n",
    "\n",
    "  # 리턴 로직 \n"
   ]
  },
  {
   "cell_type": "code",
   "execution_count": null,
   "id": "60d5d441",
   "metadata": {},
   "outputs": [],
   "source": []
  }
 ],
 "metadata": {
  "kernelspec": {
   "display_name": ".venv",
   "language": "python",
   "name": "python3"
  },
  "language_info": {
   "codemirror_mode": {
    "name": "ipython",
    "version": 3
   },
   "file_extension": ".py",
   "mimetype": "text/x-python",
   "name": "python",
   "nbconvert_exporter": "python",
   "pygments_lexer": "ipython3",
   "version": "3.13.2"
  }
 },
 "nbformat": 4,
 "nbformat_minor": 5
}
