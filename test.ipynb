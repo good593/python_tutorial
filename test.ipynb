{
 "cells": [
  {
   "cell_type": "code",
   "execution_count": 10,
   "id": "7d768e95",
   "metadata": {},
   "outputs": [],
   "source": [
    "from common.math import add, subtract, multiply, divide \n",
    "from common.utils import print_gugudan, is_odd"
   ]
  },
  {
   "cell_type": "code",
   "execution_count": null,
   "id": "f7f98183",
   "metadata": {},
   "outputs": [],
   "source": []
  },
  {
   "cell_type": "code",
   "execution_count": 7,
   "id": "c4eb91be",
   "metadata": {},
   "outputs": [
    {
     "data": {
      "text/plain": [
       "True"
      ]
     },
     "execution_count": 7,
     "metadata": {},
     "output_type": "execute_result"
    }
   ],
   "source": [
    "# 홀수 -> 소수점이 존재\n",
    "int(str(divide(3,2)).split(\".\")[1]) != 0"
   ]
  },
  {
   "cell_type": "code",
   "execution_count": 8,
   "id": "236fc7f0",
   "metadata": {},
   "outputs": [
    {
     "data": {
      "text/plain": [
       "True"
      ]
     },
     "execution_count": 8,
     "metadata": {},
     "output_type": "execute_result"
    }
   ],
   "source": [
    "# 짝수 -> 소수점 데이터가 없음 \n",
    "int(str(divide(4,2)).split(\".\")[1]) == 0"
   ]
  },
  {
   "cell_type": "code",
   "execution_count": 10,
   "id": "93164234",
   "metadata": {},
   "outputs": [
    {
     "data": {
      "text/plain": [
       "45"
      ]
     },
     "execution_count": 10,
     "metadata": {},
     "output_type": "execute_result"
    }
   ],
   "source": [
    "# 225 => 3단 빽 2단 \n",
    "sum([3, 6, 9, 12, 15, 18, 21, 24, 27]) - sum([2, 4, 6, 8, 10, 12, 14, 16, 18])"
   ]
  },
  {
   "cell_type": "code",
   "execution_count": 11,
   "id": "2cbdee80",
   "metadata": {},
   "outputs": [
    {
     "data": {
      "text/plain": [
       "135"
      ]
     },
     "execution_count": 11,
     "metadata": {},
     "output_type": "execute_result"
    }
   ],
   "source": [
    "sum([3, 6, 9, 12, 15, 18, 21, 24, 27])"
   ]
  },
  {
   "cell_type": "code",
   "execution_count": 5,
   "id": "b3f30787",
   "metadata": {},
   "outputs": [
    {
     "data": {
      "text/plain": [
       "45"
      ]
     },
     "execution_count": 5,
     "metadata": {},
     "output_type": "execute_result"
    }
   ],
   "source": [
    "subtract(print_gugudan(3, is_print=False), print_gugudan(2, is_print=False))"
   ]
  },
  {
   "cell_type": "code",
   "execution_count": 9,
   "id": "09f57a8b",
   "metadata": {},
   "outputs": [
    {
     "data": {
      "text/plain": [
       "135"
      ]
     },
     "execution_count": 9,
     "metadata": {},
     "output_type": "execute_result"
    }
   ],
   "source": [
    "print_gugudan(n=3, sum_n=0, is_print=False)"
   ]
  },
  {
   "cell_type": "code",
   "execution_count": null,
   "id": "5141b65e",
   "metadata": {},
   "outputs": [],
   "source": []
  }
 ],
 "metadata": {
  "kernelspec": {
   "display_name": ".venv",
   "language": "python",
   "name": "python3"
  },
  "language_info": {
   "codemirror_mode": {
    "name": "ipython",
    "version": 3
   },
   "file_extension": ".py",
   "mimetype": "text/x-python",
   "name": "python",
   "nbconvert_exporter": "python",
   "pygments_lexer": "ipython3",
   "version": "3.13.2"
  }
 },
 "nbformat": 4,
 "nbformat_minor": 5
}
